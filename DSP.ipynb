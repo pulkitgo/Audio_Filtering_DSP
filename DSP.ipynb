{
  "nbformat": 4,
  "nbformat_minor": 0,
  "metadata": {
    "colab": {
      "name": "DSP.ipynb",
      "provenance": [],
      "collapsed_sections": []
    },
    "kernelspec": {
      "name": "python3",
      "display_name": "Python 3"
    },
    "language_info": {
      "name": "python"
    }
  },
  "cells": [
    {
      "cell_type": "markdown",
      "metadata": {
        "id": "NwU5JSL-TJS4"
      },
      "source": [
        "# Project for EE301 (Summer 2021) \n",
        "\n",
        "Pulkit Gopalani  \n",
        "Roll No. 180564 \n"
      ]
    },
    {
      "cell_type": "code",
      "metadata": {
        "id": "QGEUixOd_C_B"
      },
      "source": [
        "# Requirements:\n",
        "# Python >= 3.7\n",
        "# Numpy \n",
        "# Librosa\n",
        "# Matplotlib\n",
        "!pip install numpy librosa matplotlib"
      ],
      "execution_count": null,
      "outputs": []
    },
    {
      "cell_type": "code",
      "metadata": {
        "id": "oYNVuakGTufH"
      },
      "source": [
        "#Imports for relevant packages\n",
        "import numpy as np\n",
        "import matplotlib.pyplot as plt\n",
        "import librosa as lb "
      ],
      "execution_count": null,
      "outputs": []
    },
    {
      "cell_type": "code",
      "metadata": {
        "id": "Um_EHDBtS3UN"
      },
      "source": [
        "def plot_signal(x, name):\n",
        "    plt.plot(x)\n",
        "    plt.savefig(name+'.png')"
      ],
      "execution_count": null,
      "outputs": []
    }
  ]
}